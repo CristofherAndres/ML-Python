{
 "cells": [
  {
   "cell_type": "code",
   "execution_count": 1,
   "metadata": {},
   "outputs": [
    {
     "name": "stdout",
     "output_type": "stream",
     "text": [
      "20\n"
     ]
    }
   ],
   "source": [
    "\"\"\" Percentil \"\"\"\n",
    "\n",
    "edades = [15, 31, 35, 12, 16, 17, 50, 46, 15, 35, 35, 34, 14, 67, 80, 6, 8, 61, 27, 31]\n",
    "print(len(edades))"
   ]
  },
  {
   "cell_type": "code",
   "execution_count": 4,
   "metadata": {},
   "outputs": [
    {
     "name": "stdout",
     "output_type": "stream",
     "text": [
      "37.75\n",
      "31.0\n"
     ]
    }
   ],
   "source": [
    "\"\"\" Necesito el percentil del 75% \"\"\"\n",
    "import numpy as np\n",
    "\n",
    "per75 = np.percentile(edades,75)\n",
    "print(per75)\n",
    "\n",
    "per50 = np.percentile(edades,50)\n",
    "print(per50)"
   ]
  },
  {
   "cell_type": "markdown",
   "metadata": {},
   "source": [
    "Perc75 -> El resultado fue de 37.75, lo que significa que el 75% de las personas tiene 37.75 años o menos.\n",
    "\n",
    "Perc50 -> 31 años, el 50% de las personas tiene 31 años o menos."
   ]
  }
 ],
 "metadata": {
  "kernelspec": {
   "display_name": "Python 3",
   "language": "python",
   "name": "python3"
  },
  "language_info": {
   "codemirror_mode": {
    "name": "ipython",
    "version": 3
   },
   "file_extension": ".py",
   "mimetype": "text/x-python",
   "name": "python",
   "nbconvert_exporter": "python",
   "pygments_lexer": "ipython3",
   "version": "3.12.0"
  }
 },
 "nbformat": 4,
 "nbformat_minor": 2
}
