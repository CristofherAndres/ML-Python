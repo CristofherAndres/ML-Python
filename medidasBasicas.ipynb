{
 "cells": [
  {
   "cell_type": "code",
   "execution_count": 3,
   "metadata": {},
   "outputs": [],
   "source": [
    "lista = [90, 50, 55, 30, 50, 95, 120, 140, 135, 110,120,120] # Valores de la velocidad"
   ]
  },
  {
   "cell_type": "code",
   "execution_count": 4,
   "metadata": {},
   "outputs": [
    {
     "name": "stdout",
     "output_type": "stream",
     "text": [
      "92.91666666666667\n"
     ]
    }
   ],
   "source": [
    "prom = sum(lista)/len(lista) # Promedio de la velocidad\n",
    "print(prom)"
   ]
  },
  {
   "cell_type": "code",
   "execution_count": 5,
   "metadata": {},
   "outputs": [
    {
     "name": "stdout",
     "output_type": "stream",
     "text": [
      "92.91666666666667\n",
      "102.5\n"
     ]
    }
   ],
   "source": [
    "#Libreria numpy #pip install numpy\n",
    "import numpy as np\n",
    "\n",
    "\"\"\" Obtener el promedio de la velocidad \"\"\"\n",
    "prom_vel = np.mean(lista)\n",
    "print(prom_vel)\n",
    "\n",
    "\"\"\" Obtener la mediana de la velocidad \"\"\"\n",
    "mediana = np.median(lista)\n",
    "print(mediana)\n",
    "\n",
    "\n"
   ]
  },
  {
   "cell_type": "code",
   "execution_count": 6,
   "metadata": {},
   "outputs": [
    {
     "name": "stdout",
     "output_type": "stream",
     "text": [
      "ModeResult(mode=120, count=3)\n"
     ]
    }
   ],
   "source": [
    "\"\"\" Obtener la moda de la lista \"\"\"\n",
    "from scipy import stats\n",
    "\n",
    "moda =stats.mode(lista)\n",
    "print(moda)"
   ]
  },
  {
   "cell_type": "code",
   "execution_count": 9,
   "metadata": {},
   "outputs": [
    {
     "name": "stdout",
     "output_type": "stream",
     "text": [
      "36.02420097039705\n",
      "1297.7430555555554\n"
     ]
    }
   ],
   "source": [
    "\"\"\" Calcular la desviacion estandar de la lista \"\"\"\n",
    "\n",
    "import numpy as np\n",
    "\n",
    "des_std = np.std(lista)\n",
    "print(des_std)\n",
    "\n",
    "\"\"\" Calcular la varianza de la lista \"\"\"\n",
    "\n",
    "varianza = np.var(lista)\n",
    "print(varianza)\n"
   ]
  }
 ],
 "metadata": {
  "kernelspec": {
   "display_name": "Python 3",
   "language": "python",
   "name": "python3"
  },
  "language_info": {
   "codemirror_mode": {
    "name": "ipython",
    "version": 3
   },
   "file_extension": ".py",
   "mimetype": "text/x-python",
   "name": "python",
   "nbconvert_exporter": "python",
   "pygments_lexer": "ipython3",
   "version": "3.12.0"
  }
 },
 "nbformat": 4,
 "nbformat_minor": 2
}
